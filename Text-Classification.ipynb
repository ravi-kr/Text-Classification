{
  "nbformat": 4,
  "nbformat_minor": 0,
  "metadata": {
    "colab": {
      "name": "Untitled",
      "provenance": [],
      "collapsed_sections": [],
      "toc_visible": true,
      "include_colab_link": true
    },
    "kernelspec": {
      "name": "python3",
      "display_name": "Python 3"
    },
    "accelerator": "GPU"
  },
  "cells": [
    {
      "cell_type": "markdown",
      "metadata": {
        "id": "view-in-github",
        "colab_type": "text"
      },
      "source": [
        "<a href=\"https://colab.research.google.com/github/ravi-kr/Text-Classification/blob/master/Text-Classification.ipynb\" target=\"_parent\"><img src=\"https://colab.research.google.com/assets/colab-badge.svg\" alt=\"Open In Colab\"/></a>"
      ]
    },
    {
      "cell_type": "code",
      "metadata": {
        "id": "vK9hv4_t8a-O",
        "colab_type": "code",
        "outputId": "86a7f6dc-9de4-4fec-a881-2a6125b106b4",
        "colab": {
          "base_uri": "https://localhost:8080/",
          "height": 34
        }
      },
      "source": [
        "!pip --version numpy"
      ],
      "execution_count": 0,
      "outputs": [
        {
          "output_type": "stream",
          "text": [
            "pip 19.2.3 from /usr/local/lib/python3.6/dist-packages/pip (python 3.6)\n"
          ],
          "name": "stdout"
        }
      ]
    },
    {
      "cell_type": "code",
      "metadata": {
        "id": "JjeQ5CxZ8ydW",
        "colab_type": "code",
        "outputId": "c698db80-655d-443a-8f82-f4af373fa984",
        "colab": {
          "base_uri": "https://localhost:8080/",
          "height": 299
        }
      },
      "source": [
        "!pip install numpy==1.16.1"
      ],
      "execution_count": 0,
      "outputs": [
        {
          "output_type": "stream",
          "text": [
            "Collecting numpy==1.16.1\n",
            "\u001b[?25l  Downloading https://files.pythonhosted.org/packages/f5/bf/4981bcbee43934f0adb8f764a1e70ab0ee5a448f6505bd04a87a2fda2a8b/numpy-1.16.1-cp36-cp36m-manylinux1_x86_64.whl (17.3MB)\n",
            "\u001b[K     |████████████████████████████████| 17.3MB 3.4MB/s \n",
            "\u001b[31mERROR: datascience 0.10.6 has requirement folium==0.2.1, but you'll have folium 0.8.3 which is incompatible.\u001b[0m\n",
            "\u001b[31mERROR: albumentations 0.1.12 has requirement imgaug<0.2.7,>=0.2.5, but you'll have imgaug 0.2.9 which is incompatible.\u001b[0m\n",
            "\u001b[?25hInstalling collected packages: numpy\n",
            "  Found existing installation: numpy 1.16.5\n",
            "    Uninstalling numpy-1.16.5:\n",
            "      Successfully uninstalled numpy-1.16.5\n",
            "Successfully installed numpy-1.16.1\n"
          ],
          "name": "stdout"
        },
        {
          "output_type": "display_data",
          "data": {
            "application/vnd.colab-display-data+json": {
              "pip_warning": {
                "packages": [
                  "numpy"
                ]
              }
            }
          },
          "metadata": {
            "tags": []
          }
        }
      ]
    },
    {
      "cell_type": "code",
      "metadata": {
        "id": "PoBKnNcd7xHy",
        "colab_type": "code",
        "colab": {}
      },
      "source": [
        "import tensorflow as tf\n",
        "from tensorflow import keras\n",
        "import numpy as np"
      ],
      "execution_count": 0,
      "outputs": []
    },
    {
      "cell_type": "code",
      "metadata": {
        "id": "AtuyMWh59I6m",
        "colab_type": "code",
        "colab": {}
      },
      "source": [
        "data = keras.datasets.imdb"
      ],
      "execution_count": 0,
      "outputs": []
    },
    {
      "cell_type": "code",
      "metadata": {
        "id": "ZejAYYCt9QB-",
        "colab_type": "code",
        "outputId": "5f924772-ca18-471a-a199-b521ec2caf62",
        "colab": {
          "base_uri": "https://localhost:8080/",
          "height": 52
        }
      },
      "source": [
        "(train_data, train_labels), (test_data, test_labels) = data.load_data(num_words = 10000)"
      ],
      "execution_count": 0,
      "outputs": [
        {
          "output_type": "stream",
          "text": [
            "Downloading data from https://storage.googleapis.com/tensorflow/tf-keras-datasets/imdb.npz\n",
            "17465344/17464789 [==============================] - 0s 0us/step\n"
          ],
          "name": "stdout"
        }
      ]
    },
    {
      "cell_type": "code",
      "metadata": {
        "id": "V1bO5Pos9vHp",
        "colab_type": "code",
        "outputId": "ce126a78-fd40-4818-e077-e1e42a3a8cb7",
        "colab": {
          "base_uri": "https://localhost:8080/",
          "height": 54
        }
      },
      "source": [
        "print(train_data[0])"
      ],
      "execution_count": 0,
      "outputs": [
        {
          "output_type": "stream",
          "text": [
            "[1, 14, 22, 16, 43, 530, 973, 1622, 1385, 65, 458, 4468, 66, 3941, 4, 173, 36, 256, 5, 25, 100, 43, 838, 112, 50, 670, 2, 9, 35, 480, 284, 5, 150, 4, 172, 112, 167, 2, 336, 385, 39, 4, 172, 4536, 1111, 17, 546, 38, 13, 447, 4, 192, 50, 16, 6, 147, 2025, 19, 14, 22, 4, 1920, 4613, 469, 4, 22, 71, 87, 12, 16, 43, 530, 38, 76, 15, 13, 1247, 4, 22, 17, 515, 17, 12, 16, 626, 18, 2, 5, 62, 386, 12, 8, 316, 8, 106, 5, 4, 2223, 5244, 16, 480, 66, 3785, 33, 4, 130, 12, 16, 38, 619, 5, 25, 124, 51, 36, 135, 48, 25, 1415, 33, 6, 22, 12, 215, 28, 77, 52, 5, 14, 407, 16, 82, 2, 8, 4, 107, 117, 5952, 15, 256, 4, 2, 7, 3766, 5, 723, 36, 71, 43, 530, 476, 26, 400, 317, 46, 7, 4, 2, 1029, 13, 104, 88, 4, 381, 15, 297, 98, 32, 2071, 56, 26, 141, 6, 194, 7486, 18, 4, 226, 22, 21, 134, 476, 26, 480, 5, 144, 30, 5535, 18, 51, 36, 28, 224, 92, 25, 104, 4, 226, 65, 16, 38, 1334, 88, 12, 16, 283, 5, 16, 4472, 113, 103, 32, 15, 16, 5345, 19, 178, 32]\n"
          ],
          "name": "stdout"
        }
      ]
    },
    {
      "cell_type": "code",
      "metadata": {
        "id": "vw-7dOTw922c",
        "colab_type": "code",
        "outputId": "d9e56d98-7809-4a22-fccc-ba52efe80f13",
        "colab": {
          "base_uri": "https://localhost:8080/",
          "height": 52
        }
      },
      "source": [
        "word_index = keras.datasets.imdb.get_word_index()"
      ],
      "execution_count": 0,
      "outputs": [
        {
          "output_type": "stream",
          "text": [
            "Downloading data from https://storage.googleapis.com/tensorflow/tf-keras-datasets/imdb_word_index.json\n",
            "1646592/1641221 [==============================] - 0s 0us/step\n"
          ],
          "name": "stdout"
        }
      ]
    },
    {
      "cell_type": "code",
      "metadata": {
        "id": "lcM3dFpV-P8W",
        "colab_type": "code",
        "colab": {}
      },
      "source": [
        "word_index =  {k:(v+3) for k, v in word_index.items()}"
      ],
      "execution_count": 0,
      "outputs": []
    },
    {
      "cell_type": "code",
      "metadata": {
        "id": "EkxWzI64_Wxj",
        "colab_type": "code",
        "colab": {}
      },
      "source": [
        "word_index[\"<PAD>\"] = 0\n",
        "word_index[\"<START>\"] = 1\n",
        "word_index[\"<UNK>\"] = 2\n",
        "word_index[\"<UNUSED>\"] = 3"
      ],
      "execution_count": 0,
      "outputs": []
    },
    {
      "cell_type": "code",
      "metadata": {
        "id": "Mff6PYtZ_viQ",
        "colab_type": "code",
        "colab": {}
      },
      "source": [
        "reverse_word_index = dict([(value, key) for (key, value) in word_index.items()])"
      ],
      "execution_count": 0,
      "outputs": []
    },
    {
      "cell_type": "code",
      "metadata": {
        "id": "kytZ5awkRCDm",
        "colab_type": "code",
        "colab": {}
      },
      "source": [
        "def decode_review(text):\n",
        "  return \" \".join([reverse_word_index.get(i, \"?\") for i in text])"
      ],
      "execution_count": 0,
      "outputs": []
    },
    {
      "cell_type": "code",
      "metadata": {
        "id": "qUqP5WWKR_0q",
        "colab_type": "code",
        "outputId": "5815331f-13d2-422c-e7e0-e79d8a65bb89",
        "colab": {
          "base_uri": "https://localhost:8080/",
          "height": 54
        }
      },
      "source": [
        "print(decode_review(test_data[0]))"
      ],
      "execution_count": 0,
      "outputs": [
        {
          "output_type": "stream",
          "text": [
            "<START> please give this one a miss br br <UNK> <UNK> and the rest of the cast rendered terrible performances the show is flat flat flat br br i don't know how michael madison could have allowed this one on his plate he almost seemed to know this wasn't going to work out and his performance was quite <UNK> so all you madison fans give this a miss\n"
          ],
          "name": "stdout"
        }
      ]
    },
    {
      "cell_type": "code",
      "metadata": {
        "id": "D16BanqLSEIC",
        "colab_type": "code",
        "outputId": "db141a55-79ad-4d7b-de5b-9829261f436c",
        "colab": {
          "base_uri": "https://localhost:8080/",
          "height": 34
        }
      },
      "source": [
        "print(len(test_data[0]), len(test_data[1]))"
      ],
      "execution_count": 0,
      "outputs": [
        {
          "output_type": "stream",
          "text": [
            "68 260\n"
          ],
          "name": "stdout"
        }
      ]
    },
    {
      "cell_type": "code",
      "metadata": {
        "id": "yM89imPhSxoy",
        "colab_type": "code",
        "colab": {}
      },
      "source": [
        "train_data = keras.preprocessing.sequence.pad_sequences(train_data, value = word_index[\"<PAD>\"], padding = \"post\", maxlen = 250)\n",
        "test_data = keras.preprocessing.sequence.pad_sequences(test_data, value = word_index[\"<PAD>\"], padding = \"post\", maxlen = 250)"
      ],
      "execution_count": 0,
      "outputs": []
    },
    {
      "cell_type": "code",
      "metadata": {
        "id": "FAsJtbbKTqNt",
        "colab_type": "code",
        "outputId": "1ab573ec-9454-4940-9877-863c5368f5df",
        "colab": {
          "base_uri": "https://localhost:8080/",
          "height": 34
        }
      },
      "source": [
        "print(len(test_data[0]), len(test_data[1]))"
      ],
      "execution_count": 0,
      "outputs": [
        {
          "output_type": "stream",
          "text": [
            "250 250\n"
          ],
          "name": "stdout"
        }
      ]
    },
    {
      "cell_type": "code",
      "metadata": {
        "id": "_WU1WizMTwwh",
        "colab_type": "code",
        "colab": {}
      },
      "source": [
        ""
      ],
      "execution_count": 0,
      "outputs": []
    },
    {
      "cell_type": "markdown",
      "metadata": {
        "id": "uCFp8pGcUQ4Q",
        "colab_type": "text"
      },
      "source": [
        "##Model Building"
      ]
    },
    {
      "cell_type": "code",
      "metadata": {
        "id": "HpaWdwM8UTrT",
        "colab_type": "code",
        "colab": {}
      },
      "source": [
        "model = keras.Sequential()\n",
        "model.add(keras.layers.Embedding(88000, 16))\n",
        "model.add(keras.layers.GlobalAveragePooling1D())\n",
        "model.add(keras.layers.Dense(16, activation = \"relu\"))\n",
        "model.add(keras.layers.Dense(1, activation = \"sigmoid\"))"
      ],
      "execution_count": 0,
      "outputs": []
    },
    {
      "cell_type": "code",
      "metadata": {
        "id": "TU-S4T34VYlE",
        "colab_type": "code",
        "colab": {}
      },
      "source": [
        ""
      ],
      "execution_count": 0,
      "outputs": []
    },
    {
      "cell_type": "markdown",
      "metadata": {
        "id": "jn4zHmONZvB6",
        "colab_type": "text"
      },
      "source": [
        "##Training the model"
      ]
    },
    {
      "cell_type": "code",
      "metadata": {
        "id": "yXqH-I4fZxDL",
        "colab_type": "code",
        "colab": {}
      },
      "source": [
        "model.compile(optimizer = \"adam\", loss = \"binary_crossentropy\", metrics = [\"accuracy\"])"
      ],
      "execution_count": 0,
      "outputs": []
    },
    {
      "cell_type": "code",
      "metadata": {
        "id": "dwH6T1JYaDzl",
        "colab_type": "code",
        "colab": {}
      },
      "source": [
        "X_val = train_data[:10000]"
      ],
      "execution_count": 0,
      "outputs": []
    },
    {
      "cell_type": "code",
      "metadata": {
        "id": "Dmk69-FWaX1o",
        "colab_type": "code",
        "colab": {}
      },
      "source": [
        "X_train = train_data[10000:]"
      ],
      "execution_count": 0,
      "outputs": []
    },
    {
      "cell_type": "code",
      "metadata": {
        "id": "q1RYuB9Rah7s",
        "colab_type": "code",
        "colab": {}
      },
      "source": [
        "y_val = train_labels[:10000]"
      ],
      "execution_count": 0,
      "outputs": []
    },
    {
      "cell_type": "code",
      "metadata": {
        "id": "Vg1eHrkTapoM",
        "colab_type": "code",
        "colab": {}
      },
      "source": [
        "y_train = train_labels[10000:]"
      ],
      "execution_count": 0,
      "outputs": []
    },
    {
      "cell_type": "code",
      "metadata": {
        "id": "gcWd8A5cas-d",
        "colab_type": "code",
        "outputId": "268444b2-e2db-46bc-94ea-239377e76a95",
        "colab": {
          "base_uri": "https://localhost:8080/",
          "height": 1000
        }
      },
      "source": [
        "fitModel = model.fit(X_train, y_train, epochs = 40, batch_size = 512, validation_data=(X_val, y_val), verbose = 1)"
      ],
      "execution_count": 0,
      "outputs": [
        {
          "output_type": "stream",
          "text": [
            "Train on 15000 samples, validate on 10000 samples\n",
            "Epoch 1/40\n",
            "15000/15000 [==============================] - 1s 36us/sample - loss: 0.6920 - acc: 0.5404 - val_loss: 0.6900 - val_acc: 0.6565\n",
            "Epoch 2/40\n",
            "15000/15000 [==============================] - 0s 27us/sample - loss: 0.6865 - acc: 0.7164 - val_loss: 0.6821 - val_acc: 0.7306\n",
            "Epoch 3/40\n",
            "15000/15000 [==============================] - 0s 27us/sample - loss: 0.6741 - acc: 0.7339 - val_loss: 0.6666 - val_acc: 0.7568\n",
            "Epoch 4/40\n",
            "15000/15000 [==============================] - 0s 26us/sample - loss: 0.6516 - acc: 0.7658 - val_loss: 0.6397 - val_acc: 0.7697\n",
            "Epoch 5/40\n",
            "15000/15000 [==============================] - 0s 27us/sample - loss: 0.6167 - acc: 0.7923 - val_loss: 0.6025 - val_acc: 0.7862\n",
            "Epoch 6/40\n",
            "15000/15000 [==============================] - 0s 28us/sample - loss: 0.5719 - acc: 0.8145 - val_loss: 0.5584 - val_acc: 0.8024\n",
            "Epoch 7/40\n",
            "15000/15000 [==============================] - 0s 27us/sample - loss: 0.5217 - acc: 0.8315 - val_loss: 0.5126 - val_acc: 0.8188\n",
            "Epoch 8/40\n",
            "15000/15000 [==============================] - 0s 27us/sample - loss: 0.4715 - acc: 0.8483 - val_loss: 0.4691 - val_acc: 0.8339\n",
            "Epoch 9/40\n",
            "15000/15000 [==============================] - 0s 26us/sample - loss: 0.4258 - acc: 0.8642 - val_loss: 0.4317 - val_acc: 0.8465\n",
            "Epoch 10/40\n",
            "15000/15000 [==============================] - 0s 26us/sample - loss: 0.3869 - acc: 0.8758 - val_loss: 0.4017 - val_acc: 0.8545\n",
            "Epoch 11/40\n",
            "15000/15000 [==============================] - 0s 29us/sample - loss: 0.3541 - acc: 0.8829 - val_loss: 0.3774 - val_acc: 0.8590\n",
            "Epoch 12/40\n",
            "15000/15000 [==============================] - 0s 26us/sample - loss: 0.3269 - acc: 0.8921 - val_loss: 0.3581 - val_acc: 0.8657\n",
            "Epoch 13/40\n",
            "15000/15000 [==============================] - 0s 27us/sample - loss: 0.3041 - acc: 0.8970 - val_loss: 0.3426 - val_acc: 0.8702\n",
            "Epoch 14/40\n",
            "15000/15000 [==============================] - 0s 26us/sample - loss: 0.2843 - acc: 0.9031 - val_loss: 0.3302 - val_acc: 0.8730\n",
            "Epoch 15/40\n",
            "15000/15000 [==============================] - 0s 26us/sample - loss: 0.2673 - acc: 0.9081 - val_loss: 0.3228 - val_acc: 0.8718\n",
            "Epoch 16/40\n",
            "15000/15000 [==============================] - 0s 27us/sample - loss: 0.2525 - acc: 0.9134 - val_loss: 0.3121 - val_acc: 0.8789\n",
            "Epoch 17/40\n",
            "15000/15000 [==============================] - 0s 26us/sample - loss: 0.2387 - acc: 0.9180 - val_loss: 0.3055 - val_acc: 0.8781\n",
            "Epoch 18/40\n",
            "15000/15000 [==============================] - 0s 27us/sample - loss: 0.2262 - acc: 0.9217 - val_loss: 0.3002 - val_acc: 0.8802\n",
            "Epoch 19/40\n",
            "15000/15000 [==============================] - 0s 27us/sample - loss: 0.2153 - acc: 0.9258 - val_loss: 0.2957 - val_acc: 0.8826\n",
            "Epoch 20/40\n",
            "15000/15000 [==============================] - 0s 26us/sample - loss: 0.2052 - acc: 0.9302 - val_loss: 0.2923 - val_acc: 0.8832\n",
            "Epoch 21/40\n",
            "15000/15000 [==============================] - 0s 27us/sample - loss: 0.1952 - acc: 0.9347 - val_loss: 0.2903 - val_acc: 0.8832\n",
            "Epoch 22/40\n",
            "15000/15000 [==============================] - 0s 28us/sample - loss: 0.1865 - acc: 0.9391 - val_loss: 0.2885 - val_acc: 0.8837\n",
            "Epoch 23/40\n",
            "15000/15000 [==============================] - 0s 27us/sample - loss: 0.1785 - acc: 0.9414 - val_loss: 0.2863 - val_acc: 0.8850\n",
            "Epoch 24/40\n",
            "15000/15000 [==============================] - 0s 27us/sample - loss: 0.1703 - acc: 0.9451 - val_loss: 0.2852 - val_acc: 0.8854\n",
            "Epoch 25/40\n",
            "15000/15000 [==============================] - 0s 26us/sample - loss: 0.1630 - acc: 0.9489 - val_loss: 0.2848 - val_acc: 0.8862\n",
            "Epoch 26/40\n",
            "15000/15000 [==============================] - 0s 27us/sample - loss: 0.1564 - acc: 0.9509 - val_loss: 0.2848 - val_acc: 0.8858\n",
            "Epoch 27/40\n",
            "15000/15000 [==============================] - 0s 27us/sample - loss: 0.1496 - acc: 0.9542 - val_loss: 0.2863 - val_acc: 0.8844\n",
            "Epoch 28/40\n",
            "15000/15000 [==============================] - 0s 27us/sample - loss: 0.1439 - acc: 0.9559 - val_loss: 0.2859 - val_acc: 0.8868\n",
            "Epoch 29/40\n",
            "15000/15000 [==============================] - 0s 27us/sample - loss: 0.1378 - acc: 0.9593 - val_loss: 0.2873 - val_acc: 0.8851\n",
            "Epoch 30/40\n",
            "15000/15000 [==============================] - 0s 27us/sample - loss: 0.1322 - acc: 0.9618 - val_loss: 0.2880 - val_acc: 0.8872\n",
            "Epoch 31/40\n",
            "15000/15000 [==============================] - 0s 27us/sample - loss: 0.1269 - acc: 0.9625 - val_loss: 0.2904 - val_acc: 0.8860\n",
            "Epoch 32/40\n",
            "15000/15000 [==============================] - 0s 27us/sample - loss: 0.1219 - acc: 0.9651 - val_loss: 0.2914 - val_acc: 0.8863\n",
            "Epoch 33/40\n",
            "15000/15000 [==============================] - 0s 27us/sample - loss: 0.1171 - acc: 0.9669 - val_loss: 0.2936 - val_acc: 0.8856\n",
            "Epoch 34/40\n",
            "15000/15000 [==============================] - 0s 27us/sample - loss: 0.1124 - acc: 0.9684 - val_loss: 0.2962 - val_acc: 0.8854\n",
            "Epoch 35/40\n",
            "15000/15000 [==============================] - 0s 27us/sample - loss: 0.1081 - acc: 0.9706 - val_loss: 0.2987 - val_acc: 0.8852\n",
            "Epoch 36/40\n",
            "15000/15000 [==============================] - 0s 27us/sample - loss: 0.1036 - acc: 0.9722 - val_loss: 0.3016 - val_acc: 0.8841\n",
            "Epoch 37/40\n",
            "15000/15000 [==============================] - 0s 26us/sample - loss: 0.0999 - acc: 0.9741 - val_loss: 0.3043 - val_acc: 0.8834\n",
            "Epoch 38/40\n",
            "15000/15000 [==============================] - 0s 27us/sample - loss: 0.0959 - acc: 0.9753 - val_loss: 0.3073 - val_acc: 0.8833\n",
            "Epoch 39/40\n",
            "15000/15000 [==============================] - 0s 27us/sample - loss: 0.0923 - acc: 0.9767 - val_loss: 0.3127 - val_acc: 0.8808\n",
            "Epoch 40/40\n",
            "15000/15000 [==============================] - 0s 27us/sample - loss: 0.0885 - acc: 0.9777 - val_loss: 0.3137 - val_acc: 0.8827\n"
          ],
          "name": "stdout"
        }
      ]
    },
    {
      "cell_type": "code",
      "metadata": {
        "id": "fG7mWb18b3hm",
        "colab_type": "code",
        "outputId": "f9825ee3-284c-460d-c6ac-548b38dd85e9",
        "colab": {
          "base_uri": "https://localhost:8080/",
          "height": 34
        }
      },
      "source": [
        "results = model.evaluate(test_data, test_labels)"
      ],
      "execution_count": 0,
      "outputs": [
        {
          "output_type": "stream",
          "text": [
            "25000/25000 [==============================] - 2s 61us/sample - loss: 0.3362 - acc: 0.8708\n"
          ],
          "name": "stdout"
        }
      ]
    },
    {
      "cell_type": "code",
      "metadata": {
        "id": "ALamMl4mcB3P",
        "colab_type": "code",
        "outputId": "0890f97d-048c-40b2-ea54-3e0ea68ef194",
        "colab": {
          "base_uri": "https://localhost:8080/",
          "height": 34
        }
      },
      "source": [
        "print(results)"
      ],
      "execution_count": 0,
      "outputs": [
        {
          "output_type": "stream",
          "text": [
            "[0.3361709847736359, 0.87076]\n"
          ],
          "name": "stdout"
        }
      ]
    },
    {
      "cell_type": "code",
      "metadata": {
        "id": "kR4AZJz4fbXU",
        "colab_type": "code",
        "colab": {}
      },
      "source": [
        "model.save(\"model.h5\")"
      ],
      "execution_count": 0,
      "outputs": []
    },
    {
      "cell_type": "code",
      "metadata": {
        "id": "NKVETfbDcORH",
        "colab_type": "code",
        "outputId": "5e0c0ac0-3b48-418d-e3b0-f415bb0a60f4",
        "colab": {
          "base_uri": "https://localhost:8080/",
          "height": 124
        }
      },
      "source": [
        "test_review = test_data[0]\n",
        "predict = model.predict([test_review])\n",
        "print(\"Review:\")\n",
        "print(decode_review(test_review))\n",
        "print(\"Prediction: \" + str(predict[0]))\n",
        "print(\"Actual: \" + str(test_labels[0]))\n",
        "print(results)"
      ],
      "execution_count": 0,
      "outputs": [
        {
          "output_type": "stream",
          "text": [
            "Review:\n",
            "<START> please give this one a miss br br <UNK> <UNK> and the rest of the cast rendered terrible performances the show is flat flat flat br br i don't know how michael madison could have allowed this one on his plate he almost seemed to know this wasn't going to work out and his performance was quite <UNK> so all you madison fans give this a miss <PAD> <PAD> <PAD> <PAD> <PAD> <PAD> <PAD> <PAD> <PAD> <PAD> <PAD> <PAD> <PAD> <PAD> <PAD> <PAD> <PAD> <PAD> <PAD> <PAD> <PAD> <PAD> <PAD> <PAD> <PAD> <PAD> <PAD> <PAD> <PAD> <PAD> <PAD> <PAD> <PAD> <PAD> <PAD> <PAD> <PAD> <PAD> <PAD> <PAD> <PAD> <PAD> <PAD> <PAD> <PAD> <PAD> <PAD> <PAD> <PAD> <PAD> <PAD> <PAD> <PAD> <PAD> <PAD> <PAD> <PAD> <PAD> <PAD> <PAD> <PAD> <PAD> <PAD> <PAD> <PAD> <PAD> <PAD> <PAD> <PAD> <PAD> <PAD> <PAD> <PAD> <PAD> <PAD> <PAD> <PAD> <PAD> <PAD> <PAD> <PAD> <PAD> <PAD> <PAD> <PAD> <PAD> <PAD> <PAD> <PAD> <PAD> <PAD> <PAD> <PAD> <PAD> <PAD> <PAD> <PAD> <PAD> <PAD> <PAD> <PAD> <PAD> <PAD> <PAD> <PAD> <PAD> <PAD> <PAD> <PAD> <PAD> <PAD> <PAD> <PAD> <PAD> <PAD> <PAD> <PAD> <PAD> <PAD> <PAD> <PAD> <PAD> <PAD> <PAD> <PAD> <PAD> <PAD> <PAD> <PAD> <PAD> <PAD> <PAD> <PAD> <PAD> <PAD> <PAD> <PAD> <PAD> <PAD> <PAD> <PAD> <PAD> <PAD> <PAD> <PAD> <PAD> <PAD> <PAD> <PAD> <PAD> <PAD> <PAD> <PAD> <PAD> <PAD> <PAD> <PAD> <PAD> <PAD> <PAD> <PAD> <PAD> <PAD> <PAD> <PAD> <PAD> <PAD> <PAD> <PAD> <PAD> <PAD> <PAD> <PAD> <PAD> <PAD> <PAD> <PAD> <PAD> <PAD> <PAD> <PAD> <PAD>\n",
            "Prediction: [0.]\n",
            "Actual: 0\n",
            "[0.3361709847736359, 0.87076]\n"
          ],
          "name": "stdout"
        }
      ]
    },
    {
      "cell_type": "code",
      "metadata": {
        "id": "nBIT_UGqdQ6d",
        "colab_type": "code",
        "outputId": "c15e2906-6997-47e6-fd7d-7743e7702cef",
        "colab": {
          "base_uri": "https://localhost:8080/",
          "height": 141
        }
      },
      "source": [
        "model = keras.models.load_model(\"model.h5\")"
      ],
      "execution_count": 0,
      "outputs": [
        {
          "output_type": "stream",
          "text": [
            "WARNING:tensorflow:From /usr/local/lib/python3.6/dist-packages/tensorflow/python/ops/init_ops.py:97: calling GlorotUniform.__init__ (from tensorflow.python.ops.init_ops) with dtype is deprecated and will be removed in a future version.\n",
            "Instructions for updating:\n",
            "Call initializer instance with the dtype argument instead of passing it to the constructor\n",
            "WARNING:tensorflow:From /usr/local/lib/python3.6/dist-packages/tensorflow/python/ops/init_ops.py:97: calling Zeros.__init__ (from tensorflow.python.ops.init_ops) with dtype is deprecated and will be removed in a future version.\n",
            "Instructions for updating:\n",
            "Call initializer instance with the dtype argument instead of passing it to the constructor\n"
          ],
          "name": "stdout"
        }
      ]
    },
    {
      "cell_type": "code",
      "metadata": {
        "id": "hFYt5w0JoVIS",
        "colab_type": "code",
        "colab": {}
      },
      "source": [
        "def review_encode(s):\n",
        "  encoded = [1]\n",
        "\n",
        "  for word in s:\n",
        "    if word.lower() in word_index:\n",
        "      encoded.append(word_index[word.lower()])\n",
        "    else:\n",
        "        encoded.append(2)\n",
        "  return encoded\n"
      ],
      "execution_count": 0,
      "outputs": []
    },
    {
      "cell_type": "code",
      "metadata": {
        "id": "iz2VkK4Ngdsq",
        "colab_type": "code",
        "colab": {
          "base_uri": "https://localhost:8080/",
          "height": 152
        },
        "outputId": "f09b7036-f7e1-4a7b-bf15-9c7301aeaaf3"
      },
      "source": [
        "with open(\"test.txt\", encoding = \"utf-8\") as f:\n",
        "  for line in f.readlines():\n",
        "    nline = line.replace(\",\", \"\").replace(\".\", \"\").replace(\"(\", \"\").replace(\")\", \"\").replace(\":\", \"\").replace(\"\\\", \"\").replace(\"'\", \"\").strip().split(\" \")\n",
        "    encode = review_encode(nline)\n",
        "    encode = keras.preprocessing.sequence.pad_sequences([encode], value = word_index[\"<PAD\"], padding = \"post\", maxlen = 250)\n",
        "    predict = model.predict(encode)\n",
        "    print(line)\n",
        "    print(encode)\n",
        "    print(predict[0])"
      ],
      "execution_count": 57,
      "outputs": [
        {
          "output_type": "error",
          "ename": "SyntaxError",
          "evalue": "ignored",
          "traceback": [
            "\u001b[0;36m  File \u001b[0;32m\"<ipython-input-57-adc078fdbe55>\"\u001b[0;36m, line \u001b[0;32m3\u001b[0m\n\u001b[0;31m    nline = line.replace(\",\", \"\").replace(\".\", \"\").replace(\"(\", \"\").replace(\")\", \"\").replace(\":\", \"\").replace(\"\\\", \"\").replace(\"'\", \"\").strip().split(\" \")\u001b[0m\n\u001b[0m                                                                                                                                                          ^\u001b[0m\n\u001b[0;31mSyntaxError\u001b[0m\u001b[0;31m:\u001b[0m EOL while scanning string literal\n"
          ]
        }
      ]
    },
    {
      "cell_type": "code",
      "metadata": {
        "id": "Pcmc0gdDoOf0",
        "colab_type": "code",
        "colab": {}
      },
      "source": [
        "\n"
      ],
      "execution_count": 0,
      "outputs": []
    },
    {
      "cell_type": "code",
      "metadata": {
        "id": "h7o8hmxvsx0f",
        "colab_type": "code",
        "colab": {}
      },
      "source": [
        ""
      ],
      "execution_count": 0,
      "outputs": []
    }
  ]
}